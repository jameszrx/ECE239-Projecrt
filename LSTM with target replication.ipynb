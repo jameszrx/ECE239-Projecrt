{
 "cells": [
  {
   "cell_type": "code",
   "execution_count": 1,
   "metadata": {},
   "outputs": [
    {
     "name": "stdout",
     "output_type": "stream",
     "text": [
      "Requirement already satisfied: sklearn in /Users/SoniaYu/miniconda3/lib/python3.6/site-packages\r\n",
      "Requirement already satisfied: scikit-learn in /Users/SoniaYu/miniconda3/lib/python3.6/site-packages (from sklearn)\r\n"
     ]
    }
   ],
   "source": [
    "import sys\n",
    "!{sys.executable} -m pip install sklearn"
   ]
  },
  {
   "cell_type": "code",
   "execution_count": 4,
   "metadata": {},
   "outputs": [],
   "source": [
    "import numpy as np\n",
    "import h5py\n",
    "import tensorflow as tf\n",
    "from tensorflow.python.ops import rnn, rnn_cell"
   ]
  },
  {
   "cell_type": "code",
   "execution_count": 5,
   "metadata": {},
   "outputs": [],
   "source": [
    "def one_hot(i):\n",
    "    a = [0,0,0,0]\n",
    "    a[i-769] = 1;\n",
    "    return a"
   ]
  },
  {
   "cell_type": "code",
   "execution_count": 74,
   "metadata": {},
   "outputs": [],
   "source": [
    "# Load subject data and store the reshaped data in X_sub[i], y_sub[i] \n",
    "X_sub = []\n",
    "y_sub = []\n",
    "for i in np.arange(9):\n",
    "    data = h5py.File('project_datasets/A0'+str(i+1)+'T_slice.mat', 'r')\n",
    "    X_sub.append(np.copy(data['image']))\n",
    "    y_sub.append(np.copy(data['type']))\n",
    "    X_sub[i] = X_sub[i][:, :22, :]\n",
    "    X_sub[i] = X_sub[i].transpose([0,2,1])\n",
    "    y_sub[i] = y_sub[i][0,0:X_sub[i].shape[0]:1]\n",
    "    y_sub[i] = np.asarray(y_sub[i], dtype=np.int32)\n",
    "    y_sub[i] = [one_hot(j) for j in y_sub[i]]\n",
    "    y_sub[i] = np.asarray(y_sub[i], dtype = np.int8)"
   ]
  },
  {
   "cell_type": "code",
   "execution_count": 75,
   "metadata": {
    "scrolled": false
   },
   "outputs": [],
   "source": [
    "# Remove NaN\n",
    "for i in np.arange(9):\n",
    "    y_sub[i] = y_sub[i][~np.isnan(X_sub[i]).any(axis=(1,2))]\n",
    "    X_sub[i] = X_sub[i][~np.isnan(X_sub[i]).any(axis=(1,2))]"
   ]
  },
  {
   "cell_type": "code",
   "execution_count": 169,
   "metadata": {},
   "outputs": [],
   "source": [
    "# Data Normalization\n",
    "def normalize(dataset):\n",
    "    mu = np.mean(dataset,axis=0)\n",
    "    sigma = np.std(dataset,axis=0)\n",
    "    return (dataset - mu)/ sigma"
   ]
  },
  {
   "cell_type": "code",
   "execution_count": 319,
   "metadata": {
    "scrolled": false
   },
   "outputs": [
    {
     "name": "stdout",
     "output_type": "stream",
     "text": [
      "(2046, 1000, 22)\n",
      "(512, 1000, 22)\n",
      "(512000, 4)\n"
     ]
    }
   ],
   "source": [
    "# For training across all subjects\n",
    "# Shuffle the data, sample 20% for testing, and the rest for training\n",
    "X = []\n",
    "y = []\n",
    "\n",
    "X = np.concatenate([X_sub[i] for i in np.arange(9)])\n",
    "y = np.concatenate([y_sub[i] for i in np.arange(9)])\n",
    "num_trial = X.shape[0]\n",
    "index_shuffle = np.arange(num_trial)\n",
    "np.random.shuffle(index_shuffle)\n",
    "X_shuffle = X[index_shuffle]\n",
    "y_shuffle = y[index_shuffle]\n",
    "\n",
    "training_index = int(np.floor(num_trial * (1 - 0.2)))\n",
    "#validation_index = training_index + int(np.floor(num_trial * 0.2))\n",
    "# test_index = num_trial\n",
    "\n",
    "X_train = X_shuffle[0:training_index]\n",
    "y_train = y_shuffle[0:training_index]\n",
    "# X_val = X_shuffle[training_index:validation_index]\n",
    "# y_val = y_shuffle[training_index:validation_index]\n",
    "# y_val_steps = np.tile(y_val,((X_train.shape[1]),1))\n",
    "X_test = X_shuffle[training_index:num_trial]\n",
    "y_test = y_shuffle[training_index:num_trial]\n",
    "y_test_steps = np.tile(y_test,((X_train.shape[1]),1))\n",
    "\n",
    "X_train = normalize(X_train)\n",
    "#X_val = normalize(X_val)\n",
    "X_test = normalize(X_test)\n",
    "\n",
    "print(X_train.shape)\n",
    "print(X_test.shape)\n",
    "print(y_test_steps.shape)"
   ]
  },
  {
   "cell_type": "code",
   "execution_count": 220,
   "metadata": {
    "scrolled": true
   },
   "outputs": [
    {
     "name": "stdout",
     "output_type": "stream",
     "text": [
      "(237, 1000, 22)\n",
      "(50, 1000, 22)\n",
      "(50000, 4)\n",
      "(236, 1000, 22)\n",
      "(50, 1000, 22)\n",
      "(50000, 4)\n",
      "(236, 1000, 22)\n",
      "(50, 1000, 22)\n",
      "(50000, 4)\n",
      "(234, 1000, 22)\n",
      "(50, 1000, 22)\n",
      "(50000, 4)\n",
      "(232, 1000, 22)\n",
      "(50, 1000, 22)\n",
      "(50000, 4)\n",
      "(235, 1000, 22)\n",
      "(50, 1000, 22)\n",
      "(50000, 4)\n",
      "(238, 1000, 22)\n",
      "(50, 1000, 22)\n",
      "(50000, 4)\n",
      "(232, 1000, 22)\n",
      "(50, 1000, 22)\n",
      "(50000, 4)\n",
      "(228, 1000, 22)\n",
      "(50, 1000, 22)\n",
      "(50000, 4)\n"
     ]
    }
   ],
   "source": [
    "# For training within each subject[i]\n",
    "# Shuffle the data, sample 50 trials for testing, and the rest for training -->\n",
    "X_train_sub = []\n",
    "y_train_sub = []\n",
    "X_test_sub = []\n",
    "y_test_sub = []\n",
    "y_test_steps_sub = []\n",
    "\n",
    "for i in np.arange(9):\n",
    "    num_trial_sub = X_sub[i].shape[0]\n",
    "    index_shuffle_sub = np.arange(num_trial_sub)\n",
    "    np.random.shuffle(index_shuffle_sub)\n",
    "    X_shuffle_sub = X_sub[i][index_shuffle_sub]\n",
    "    y_shuffle_sub = y_sub[i][index_shuffle_sub]\n",
    "    \n",
    "    training_index_sub = num_trial_sub - 50\n",
    "    \n",
    "    X_train_sub.append(X_shuffle_sub[0:training_index_sub])\n",
    "    y_train_sub.append(y_shuffle_sub[0:training_index_sub])\n",
    "    X_test_sub.append(X_shuffle[training_index_sub:num_trial_sub])\n",
    "    y_test_sub.append(y_shuffle[training_index_sub:num_trial_sub])\n",
    "    y_test_steps_sub.append(np.tile(y_test_sub[i],((X_train_sub[i].shape[1]),1)))\n",
    "\n",
    "    X_train_sub[i] = normalize(X_train_sub[i])\n",
    "    X_test_sub[i] = normalize(X_test_sub[i])\n",
    "\n",
    "    print(X_train_sub[i].shape)\n",
    "    print(X_test_sub[i].shape)\n",
    "    print(y_test_steps_sub[i].shape)    "
   ]
  },
  {
   "cell_type": "code",
   "execution_count": 320,
   "metadata": {},
   "outputs": [],
   "source": [
    "# For training across all subjects: Hyperparameters setting\n",
    "tf.reset_default_graph()\n",
    "\n",
    "learning_rate = 0.0005\n",
    "training_epochs = 30\n",
    "batch_size = 35\n",
    "total_batches = (X_train.shape[0]//batch_size)\n",
    "# print(total_batches)\n",
    "\n",
    "alpha = 0.3\n",
    "reg = 1"
   ]
  },
  {
   "cell_type": "code",
   "execution_count": 309,
   "metadata": {},
   "outputs": [],
   "source": [
    "# For training within each subject: Hyperparameters setting\n",
    "tf.reset_default_graph()\n",
    "\n",
    "learning_rate_sub = 0.001\n",
    "training_epochs_sub = 10\n",
    "batch_size_sub = 15\n",
    "total_batches_sub = (X_train_sub[i].shape[0]//batch_size_sub)\n",
    "# print(total_batches)\n",
    "\n",
    "alpha_sub = 0.3\n",
    "reg_sub = 1"
   ]
  },
  {
   "cell_type": "code",
   "execution_count": 321,
   "metadata": {},
   "outputs": [],
   "source": [
    "# Fixed Parameters\n",
    "n_input = 22\n",
    "n_steps = 1000\n",
    "n_hidden = 128\n",
    "n_classes = 4\n",
    "\n",
    "# Common Parameters\n",
    "n_layers = 2\n",
    "\n",
    "# Placeholders\n",
    "x = tf.placeholder(\"float\", [None, n_steps, n_input])\n",
    "y = tf.placeholder(\"float\", [None, n_classes])\n",
    "y_steps = tf.placeholder(\"float\", [None, n_classes])\n",
    "dropout = tf.placeholder(tf.float32) # prob to drop the cell"
   ]
  },
  {
   "cell_type": "code",
   "execution_count": 322,
   "metadata": {},
   "outputs": [],
   "source": [
    "def weight_variable(shape):\n",
    "    initial = tf.truncated_normal(shape, stddev = 0.1)\n",
    "    return tf.Variable(initial)\n",
    "\n",
    "def bias_variable(shape):\n",
    "    initial = tf.constant(0.0, shape = shape)\n",
    "    return tf.Variable(initial)\n",
    "\n",
    "def LSTM(x, weight, bias):\n",
    "    cells = []\n",
    "    for i in np.arange(n_layers):\n",
    "        cell = rnn_cell.LSTMCell(n_hidden,state_is_tuple = True)\n",
    "        cell = tf.contrib.rnn.DropoutWrapper(\n",
    "            cell, output_keep_prob=1.0 - dropout)\n",
    "        cells.append(cell)\n",
    "    multi_layer_cell = tf.nn.rnn_cell.MultiRNNCell(cells)\n",
    "    output, state = tf.nn.dynamic_rnn(multi_layer_cell, x, dtype = tf.float32)\n",
    "    output_flattened = tf.reshape(output, [-1, n_hidden])\n",
    "    output_logits = tf.add(tf.matmul(output_flattened,weight),bias)\n",
    "    output_all = tf.nn.sigmoid(output_logits)\n",
    "    output_reshaped = tf.reshape(output_all,[-1,n_steps,n_classes])\n",
    "    output_last = tf.gather(tf.transpose(output_reshaped,[1,0,2]), n_steps - 1)  \n",
    "\n",
    "    return output_last, output_all"
   ]
  },
  {
   "cell_type": "code",
   "execution_count": 323,
   "metadata": {},
   "outputs": [],
   "source": [
    "weight = weight_variable([n_hidden,n_classes])\n",
    "bias = bias_variable([n_classes])\n",
    "y_last, y_all = LSTM(x,weight,bias)"
   ]
  },
  {
   "cell_type": "code",
   "execution_count": 324,
   "metadata": {},
   "outputs": [
    {
     "name": "stderr",
     "output_type": "stream",
     "text": [
      "/Users/SoniaYu/miniconda3/lib/python3.6/site-packages/tensorflow/python/ops/gradients_impl.py:98: UserWarning: Converting sparse IndexedSlices to a dense Tensor of unknown shape. This may consume a large amount of memory.\n",
      "  \"Converting sparse IndexedSlices to a dense Tensor of unknown shape. \"\n"
     ]
    }
   ],
   "source": [
    "all_steps_cost = -tf.reduce_mean((y_steps * tf.log(y_all))  + (1 - y_steps) * tf.log(1 - y_all))\n",
    "last_step_cost = -tf.reduce_mean((y * tf.log(y_last)) + ((1 - y) * tf.log(1 - y_last)))\n",
    "regularizer = tf.nn.l2_loss(weight)\n",
    "loss_function = (alpha * all_steps_cost) + ((1 - alpha) * last_step_cost) + reg * 0.5 *  regularizer\n",
    "\n",
    "optimizer = tf.train.AdamOptimizer(learning_rate = learning_rate).minimize(loss_function)\n",
    "\n",
    "correct_prediction = tf.equal(tf.argmax(y_last, axis = 1),tf.argmax(y,axis = 1))\n",
    "accuracy = tf.reduce_mean(tf.cast(correct_prediction, \"float\"))"
   ]
  },
  {
   "cell_type": "code",
   "execution_count": null,
   "metadata": {
    "scrolled": true
   },
   "outputs": [
    {
     "name": "stdout",
     "output_type": "stream",
     "text": [
      "training accuracy = 0.23, training loss = 1.677920\n",
      "training accuracy = 0.11, training loss = 1.384351\n",
      "training accuracy = 0.20, training loss = 1.241838\n",
      "Epoch 0: test accuracy = 0.236328\n",
      "training accuracy = 0.20, training loss = 1.137630\n",
      "training accuracy = 0.23, training loss = 1.031423\n",
      "training accuracy = 0.14, training loss = 0.963401\n",
      "Epoch 1: test accuracy = 0.240234\n",
      "training accuracy = 0.09, training loss = 0.897811\n",
      "training accuracy = 0.34, training loss = 0.825724\n",
      "training accuracy = 0.06, training loss = 0.797855\n",
      "Epoch 2: test accuracy = 0.236328\n",
      "training accuracy = 0.20, training loss = 0.753752\n",
      "training accuracy = 0.31, training loss = 0.713269\n",
      "training accuracy = 0.17, training loss = 0.695013\n",
      "Epoch 3: test accuracy = 0.232422\n",
      "training accuracy = 0.17, training loss = 0.676622\n",
      "training accuracy = 0.31, training loss = 0.644722\n",
      "training accuracy = 0.17, training loss = 0.636620\n",
      "Epoch 4: test accuracy = 0.234375\n",
      "training accuracy = 0.14, training loss = 0.635601\n",
      "training accuracy = 0.29, training loss = 0.607777\n",
      "training accuracy = 0.17, training loss = 0.611818\n",
      "Epoch 5: test accuracy = 0.234375\n",
      "training accuracy = 0.20, training loss = 0.608515\n",
      "training accuracy = 0.29, training loss = 0.591050\n",
      "training accuracy = 0.11, training loss = 0.595514\n",
      "Epoch 6: test accuracy = 0.234375\n",
      "training accuracy = 0.20, training loss = 0.593581\n",
      "training accuracy = 0.29, training loss = 0.577188\n",
      "training accuracy = 0.09, training loss = 0.587003\n",
      "Epoch 7: test accuracy = 0.234375\n",
      "training accuracy = 0.20, training loss = 0.586792\n",
      "training accuracy = 0.20, training loss = 0.571743\n",
      "training accuracy = 0.09, training loss = 0.582926\n",
      "Epoch 8: test accuracy = 0.234375\n",
      "training accuracy = 0.20, training loss = 0.584141\n"
     ]
    }
   ],
   "source": [
    "# Training across all subjects\n",
    "\n",
    "display_step = 20 \n",
    "\n",
    "with tf.Session() as session:\n",
    "    tf.global_variables_initializer().run()\n",
    "    for epoch in range(training_epochs):\n",
    "        for b in range(total_batches):    \n",
    "            offset = (b * batch_size) % (y_train.shape[0] - batch_size)\n",
    "            batch_x = X_train[offset:(offset + batch_size), :]\n",
    "            batch_y = y_train[offset:(offset + batch_size), :]\n",
    "            batch_y_steps = np.tile(batch_y,((X_train.shape[1]),1))\n",
    "            \n",
    "            _, acc, loss = session.run([optimizer, accuracy, loss_function], feed_dict={\n",
    "                x: batch_x, y: batch_y, y_steps: batch_y_steps, dropout: 0.3})\n",
    "            \n",
    "            if (b % display_step == 0):\n",
    "                print('training accuracy = %.2f, training loss = %f' % (acc, loss))\n",
    "            \n",
    "        test_accuracy = session.run(accuracy, feed_dict={\n",
    "            x:X_test, y:y_test, y_steps: y_test_steps, dropout: 0})\n",
    "        print('Epoch %d: test accuracy = %f' % (epoch, test_accuracy))\n",
    "            \n",
    "    "
   ]
  },
  {
   "cell_type": "code",
   "execution_count": 300,
   "metadata": {
    "scrolled": true
   },
   "outputs": [
    {
     "name": "stdout",
     "output_type": "stream",
     "text": [
      "For subject 1 : training accuracy = 0.13, training loss = 1.653416\n",
      "For subject 1 : training accuracy = 0.33, training loss = 1.608356\n",
      "For subject 1 : training accuracy = 0.40, training loss = 1.557815\n",
      "For subject 1 : training accuracy = 0.27, training loss = 1.546753\n",
      "For subject 1 : training accuracy = 0.40, training loss = 1.502753\n",
      "For subject 1, Epoch 0: test accuracy = 0.220000\n",
      "For subject 1 : training accuracy = 0.40, training loss = 1.463342\n",
      "For subject 1 : training accuracy = 0.33, training loss = 1.439098\n",
      "For subject 1 : training accuracy = 0.27, training loss = 1.389731\n",
      "For subject 1 : training accuracy = 0.13, training loss = 1.370708\n",
      "For subject 1 : training accuracy = 0.20, training loss = 1.339989\n",
      "For subject 1, Epoch 1: test accuracy = 0.240000\n",
      "For subject 1 : training accuracy = 0.27, training loss = 1.312333\n",
      "For subject 1 : training accuracy = 0.40, training loss = 1.248978\n",
      "For subject 1 : training accuracy = 0.33, training loss = 1.220861\n",
      "For subject 1 : training accuracy = 0.07, training loss = 1.243352\n",
      "For subject 1 : training accuracy = 0.13, training loss = 1.203223\n",
      "For subject 1, Epoch 2: test accuracy = 0.280000\n",
      "For subject 1 : training accuracy = 0.27, training loss = 1.199714\n",
      "For subject 1 : training accuracy = 0.33, training loss = 1.151752\n",
      "For subject 1 : training accuracy = 0.20, training loss = 1.158050\n",
      "For subject 1 : training accuracy = 0.20, training loss = 1.153360\n",
      "For subject 1 : training accuracy = 0.20, training loss = 1.124915\n",
      "For subject 1, Epoch 3: test accuracy = 0.320000\n",
      "For subject 1 : training accuracy = 0.27, training loss = 1.087262\n",
      "For subject 1 : training accuracy = 0.33, training loss = 1.064566\n",
      "For subject 1 : training accuracy = 0.40, training loss = 1.049102\n",
      "For subject 1 : training accuracy = 0.33, training loss = 1.069419\n",
      "For subject 1 : training accuracy = 0.27, training loss = 1.039899\n",
      "For subject 1, Epoch 4: test accuracy = 0.320000\n",
      "For subject 1 : training accuracy = 0.27, training loss = 1.008096\n",
      "For subject 1 : training accuracy = 0.53, training loss = 0.993531\n",
      "For subject 1 : training accuracy = 0.33, training loss = 1.001239\n",
      "For subject 1 : training accuracy = 0.07, training loss = 0.994864\n",
      "For subject 1 : training accuracy = 0.47, training loss = 0.955380\n",
      "For subject 1, Epoch 5: test accuracy = 0.340000\n",
      "For subject 1 : training accuracy = 0.33, training loss = 0.954031\n",
      "For subject 1 : training accuracy = 0.47, training loss = 0.934386\n",
      "For subject 1 : training accuracy = 0.40, training loss = 0.911421\n",
      "For subject 1 : training accuracy = 0.13, training loss = 0.948499\n",
      "For subject 1 : training accuracy = 0.40, training loss = 0.935275\n",
      "For subject 1, Epoch 6: test accuracy = 0.340000\n",
      "For subject 1 : training accuracy = 0.33, training loss = 0.896622\n",
      "For subject 1 : training accuracy = 0.47, training loss = 0.881753\n",
      "For subject 1 : training accuracy = 0.47, training loss = 0.862512\n",
      "For subject 1 : training accuracy = 0.20, training loss = 0.899333\n",
      "For subject 1 : training accuracy = 0.40, training loss = 0.865982\n",
      "For subject 1, Epoch 7: test accuracy = 0.360000\n",
      "For subject 1 : training accuracy = 0.33, training loss = 0.863859\n",
      "For subject 1 : training accuracy = 0.33, training loss = 0.844939\n",
      "For subject 1 : training accuracy = 0.67, training loss = 0.811941\n",
      "For subject 1 : training accuracy = 0.20, training loss = 0.848894\n",
      "For subject 1 : training accuracy = 0.40, training loss = 0.827882\n",
      "For subject 1, Epoch 8: test accuracy = 0.320000\n",
      "For subject 1 : training accuracy = 0.33, training loss = 0.802073\n",
      "For subject 1 : training accuracy = 0.47, training loss = 0.810396\n",
      "For subject 1 : training accuracy = 0.27, training loss = 0.801910\n",
      "For subject 1 : training accuracy = 0.33, training loss = 0.816221\n",
      "For subject 1 : training accuracy = 0.40, training loss = 0.799135\n",
      "For subject 1, Epoch 9: test accuracy = 0.320000\n"
     ]
    }
   ],
   "source": [
    "# Training within each subject\n",
    "\n",
    "#sub_num = [1, 2, 3, 4, 5, 6, 7, 8, 9]\n",
    "sub_num = [1]\n",
    "\n",
    "display_step_sub = 3\n",
    "\n",
    "for i in sub_num:\n",
    "\n",
    "    with tf.Session() as session:\n",
    "        tf.global_variables_initializer().run()\n",
    "        for epoch in range(training_epochs_sub):\n",
    "            for b in range(total_batches_sub):    \n",
    "                offset = (b * batch_size_sub) % (y_train_sub[i-1].shape[0] - batch_size_sub)\n",
    "                batch_x = X_train_sub[i-1][offset:(offset + batch_size_sub), :]\n",
    "                batch_y = y_train_sub[i-1][offset:(offset + batch_size_sub), :]\n",
    "                batch_y_steps = np.tile(batch_y,((X_train_sub[i-1].shape[1]),1))\n",
    "                \n",
    "                _, acc, loss = session.run([optimizer, accuracy, loss_function], feed_dict={\n",
    "                    x: batch_x, y: batch_y, y_steps: batch_y_steps, dropout: 0.3})\n",
    "                \n",
    "                if (b % display_step_sub == 0):\n",
    "                    print('For subject %d : training accuracy = %.2f, training loss = %f' % (i, acc, loss))\n",
    "\n",
    "            test_accuracy = session.run(accuracy, feed_dict={\n",
    "                x:X_test_sub[i-1], y:y_test_sub[i-1], y_steps: y_test_steps_sub[i-1], dropout: 0})\n",
    "            print('For subject %d, Epoch %d: test accuracy = %f' % (i, epoch, test_accuracy))"
   ]
  }
 ],
 "metadata": {
  "kernelspec": {
   "display_name": "Python 3",
   "language": "python",
   "name": "python3"
  },
  "language_info": {
   "codemirror_mode": {
    "name": "ipython",
    "version": 3
   },
   "file_extension": ".py",
   "mimetype": "text/x-python",
   "name": "python",
   "nbconvert_exporter": "python",
   "pygments_lexer": "ipython3",
   "version": "3.6.3"
  }
 },
 "nbformat": 4,
 "nbformat_minor": 2
}
